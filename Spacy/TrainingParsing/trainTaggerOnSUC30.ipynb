{
 "cells": [
  {
   "cell_type": "code",
   "execution_count": 1,
   "metadata": {
    "pycharm": {
     "is_executing": false
    }
   },
   "outputs": [],
   "source": [
    "#from __future__ import unicode_literals\n",
    "import xml.etree.ElementTree as ET\n",
    "import spacy\n",
    "import random\n",
    "from spacy.util import minibatch, compounding\n",
    "from pathlib import Path"
   ]
  },
  {
   "cell_type": "code",
   "execution_count": 2,
   "metadata": {
    "pycharm": {
     "is_executing": false
    }
   },
   "outputs": [],
   "source": [
    "def parseSuc30ToSpacySimplePos(file):\n",
    "    \n",
    "    TRAIN_DATA = []\n",
    "    \n",
    "    tree = ET.parse('../Data/Datasets/suc3.xml')\n",
    "    root = tree.getroot()\n",
    "        \n",
    "    for sentence in root.iter('sentence'):\n",
    "        text = ''\n",
    "        words = []\n",
    "        tags = []\n",
    "        wordTagDict = {}\n",
    "        \n",
    "        for word in sentence.iter('w'):\n",
    "            words.append(word.text)\n",
    "            tags.append(word.attrib['msd'].replace('.', '|'))\n",
    "            text += word.text + ' '\n",
    "        wordTagDict['words'] = words\n",
    "        wordTagDict['tags'] = tags\n",
    "        sentenceTuple = (text, wordTagDict)\n",
    "    \n",
    "        TRAIN_DATA.append(sentenceTuple)\n",
    "        \n",
    "    return TRAIN_DATA\n",
    "        "
   ]
  },
  {
   "cell_type": "code",
   "execution_count": 3,
   "metadata": {
    "pycharm": {
     "is_executing": false,
     "name": "#%%\n"
    }
   },
   "outputs": [
    {
     "name": "stdout",
     "text": [
      "Losses {'tagger': 14623.98728149502}\n",
      "Losses {'tagger': 12667.47328738841}\n",
      "Losses {'tagger': 11421.159311390486}\n",
      "Losses {'tagger': 10471.539729238986}\n",
      "Losses {'tagger': 9621.710414102236}\n",
      "Losses {'tagger': 8775.044490039223}\n",
      "Losses {'tagger': 8224.528262796626}\n",
      "Losses {'tagger': 7450.294569667707}\n",
      "Losses {'tagger': 7142.808351896532}\n",
      "Losses {'tagger': 6656.530497621032}\n",
      "Losses {'tagger': 6199.323727387997}\n",
      "Losses {'tagger': 5946.865974176289}\n",
      "Losses {'tagger': 5660.67521431242}\n",
      "Losses {'tagger': 5353.00083246531}\n",
      "Losses {'tagger': 5106.83083895285}\n",
      "Losses {'tagger': 4899.589639359908}\n",
      "Losses {'tagger': 4694.74191339925}\n",
      "Losses {'tagger': 4604.03942746342}\n",
      "Losses {'tagger': 4285.264890220218}\n",
      "Losses {'tagger': 4116.974608598131}\n",
      "Losses {'tagger': 4044.138870714709}\n",
      "Losses {'tagger': 3768.2594963123256}\n",
      "Losses {'tagger': 3688.1159035463065}\n",
      "Losses {'tagger': 3682.376812942355}\n",
      "Losses {'tagger': 3440.0097550839073}\n"
     ],
     "output_type": "stream"
    }
   ],
   "source": [
    "def trainTagger(TRAIN_DATA, model=None, outputDir=None):\n",
    "\n",
    "    if model is not None:\n",
    "        nlp = spacy.load(model)\n",
    "        print(\"Loaded model '%s'\" % model)\n",
    "    else:\n",
    "        nlp = spacy.blank(\"sv\")  # create blank Language class\n",
    "        print(\"Created blank 'sv' model\")\n",
    "        \n",
    "    if \"tagger\" not in nlp.pipe_names:\n",
    "        tagger = nlp.create_pipe(\"tagger\")\n",
    "        nlp.add_pipe(tagger, first=True)\n",
    "    else:\n",
    "        tagger = nlp.get_pipe(\"tagger\")\n",
    "        \n",
    "    pipe_exceptions = [\"tagger\"]\n",
    "    other_pipes = [pipe for pipe in nlp.pipe_names if pipe not in pipe_exceptions]\n",
    "    \n",
    "    with nlp.disable_pipes(*other_pipes):  # only train tagger\n",
    "        optimizer = nlp.begin_training()\n",
    "        for i in range(25):\n",
    "            random.shuffle(TRAIN_DATA)\n",
    "            losses = {}\n",
    "            batches = minibatch(TRAIN_DATA, size=compounding(4.0, 32.0, 1.001))\n",
    "            # batch up the examples using spaCy's \n",
    "            for batch in batches:\n",
    "                texts, annotations = zip(*batch)\n",
    "                nlp.update(texts, annotations, sgd=optimizer, losses=losses)\n",
    "            print(\"Losses\", losses)\n",
    "    \n",
    "    # save model to output directory\n",
    "    if outputDir is not None:\n",
    "        output_dir = Path(outputDir)\n",
    "        if not outputDir.exists():\n",
    "            outputDir.mkdir()\n",
    "        nlp.to_disk(outputDir)\n",
    "        print(\"Saved model to \", outputDir)\n",
    "    "
   ]
  },
  {
   "cell_type": "code",
   "execution_count": null,
   "outputs": [],
   "source": [
    "TRAIN_DATA = parseSuc30ToSpacySimplePos('pathToSuc30')\n",
    "trainTagger(TRAIN_DATA, 'pathToModel', 'pathToOutputDir')\n"
   ],
   "metadata": {
    "collapsed": false,
    "pycharm": {
     "name": "#%%\n"
    }
   }
  },
  {
   "cell_type": "code",
   "execution_count": null,
   "outputs": [],
   "source": [
    "\n"
   ],
   "metadata": {
    "collapsed": false,
    "pycharm": {
     "name": "#%%\n"
    }
   }
  }
 ],
 "metadata": {
  "kernelspec": {
   "display_name": "PyCharm (RelationExtraction)",
   "language": "python",
   "name": "pycharm-791db5a1"
  },
  "language_info": {
   "codemirror_mode": {
    "name": "ipython",
    "version": 3
   },
   "file_extension": ".py",
   "mimetype": "text/x-python",
   "name": "python",
   "nbconvert_exporter": "python",
   "pygments_lexer": "ipython3",
   "version": "3.7.4"
  },
  "pycharm": {
   "stem_cell": {
    "cell_type": "raw",
    "source": [],
    "metadata": {
     "collapsed": false
    }
   }
  }
 },
 "nbformat": 4,
 "nbformat_minor": 1
}