{
 "cells": [
  {
   "cell_type": "code",
   "execution_count": 13,
   "metadata": {
    "pycharm": {
     "is_executing": false
    }
   },
   "outputs": [],
   "source": [
    "import json\n",
    "import spacy\n",
    "import random\n",
    "from pathlib import Path\n",
    "from spacy.util import minibatch, compounding"
   ]
  },
  {
   "cell_type": "code",
   "execution_count": 16,
   "metadata": {
    "collapsed": true,
    "pycharm": {
     "is_executing": false
    }
   },
   "outputs": [
    {
     "name": "stdout",
     "text": [
      "ROOT\n"
     ],
     "output_type": "stream"
    }
   ],
   "source": [
    "def parseJSONToSpacySmiple(trainingSet):\n",
    "\n",
    "    f = open(trainingSet, 'r')\n",
    "    dataset = json.load(f)\n",
    "    \n",
    "    #print(dataset[0]['paragraphs'][0]['sentences'][0]['tokens'][0]['dep'])\n",
    "        \n",
    "    #The error here due to relative positions in head tag\n",
    "    #Calculate the proper head by adding head to id and replacing head 0 (root) with id\n",
    "    \n",
    "    TRAIN_DATA = []\n",
    "    \n",
    "    for d in dataset:\n",
    "        for p in d['paragraphs']:\n",
    "            for se in p['sentences']:\n",
    "                headsDepDict = {}\n",
    "                heads = []\n",
    "                deps = []\n",
    "                text = ''\n",
    "                for t in se['tokens']:\n",
    "                    h = t['id'] + t['head']\n",
    "                    heads.append(h)\n",
    "                    deps.append(t['dep'])\n",
    "                    text += t['orth'] + ' '\n",
    "                headsDepDict['heads'] = heads\n",
    "                headsDepDict['deps'] = deps\n",
    "                finalSentTuple = (text, headsDepDict)\n",
    "                TRAIN_DATA.append(finalSentTuple)    \n",
    "    f.close()\n",
    "    \n",
    "    return TRAIN_DATA"
   ]
  },
  {
   "cell_type": "code",
   "execution_count": 19,
   "metadata": {
    "pycharm": {
     "is_executing": false
    }
   },
   "outputs": [
    {
     "name": "stdout",
     "text": [
      "Losses {'parser': 6914.239720644246}\n",
      "Losses {'parser': 5645.849165849023}\n",
      "Losses {'parser': 4799.7300084911}\n",
      "Losses {'parser': 4373.385860583101}\n",
      "Losses {'parser': 4059.1224395254317}\n",
      "finally done\n"
     ],
     "output_type": "stream"
    }
   ],
   "source": [
    "def trainParser(TRAIN_DATA, model=None, outputDir=None)\n",
    "\n",
    "    if model is not None:\n",
    "        nlp = spacy.load(model)\n",
    "        print(\"Loaded model '%s'\" % model)\n",
    "    else:\n",
    "        nlp = spacy.blank(\"sv\")  # create blank Language class\n",
    "        print(\"Created blank 'sv' model\")\n",
    "    \n",
    "    if \"parser\" not in nlp.pipe_names:\n",
    "        parser = nlp.create_pipe(\"parser\")\n",
    "        nlp.add_pipe(parser, first=True)\n",
    "        \n",
    "    else:\n",
    "        parser = nlp.get_pipe(\"parser\")\n",
    "    \n",
    "    for _, annotations in TRAIN_DATA:\n",
    "        for dep in annotations.get(\"deps\", []):\n",
    "            parser.add_label(dep)\n",
    "    \n",
    "    pipe_exceptions = [\"parser\"]\n",
    "    other_pipes = [pipe for pipe in nlp.pipe_names if pipe not in pipe_exceptions]\n",
    "    \n",
    "    with nlp.disable_pipes(*other_pipes):\n",
    "        optimizer = nlp.begin_training()\n",
    "            \n",
    "        for itn in range(5):\n",
    "            random.shuffle(TRAIN_DATA)\n",
    "            losses = {}\n",
    "             #batch up the examples using spaCy's minibatch\n",
    "            batches = minibatch(TRAIN_DATA, size=compounding(4.0, 32.0, 1.001))\n",
    "            for batch in batches:\n",
    "                texts, annotations = zip(*batch)\n",
    "                nlp.update(texts, annotations, sgd=optimizer, losses=losses)\n",
    "            print(\"Losses\", losses)\n",
    "        \n",
    "    print('finally done')\n",
    "    \n",
    "    if outputDir is not None:\n",
    "        output_dir = Path(outputDir)\n",
    "        if not outputDir.exists():\n",
    "            outputDir.mkdir()\n",
    "        nlp.to_disk(outputDir)\n",
    "        print(\"Saved model to \", outputDir)\n",
    "\n"
   ]
  },
  {
   "cell_type": "code",
   "execution_count": 20,
   "outputs": [],
   "source": [
    "TRAIN_DATA = parseJSONToSpacySmiple('pathToTrainingSet') #swedish-lines json\n",
    "trainParser(TRAIN_DATA, 'pathToModel', 'pathToOutputDir')"
   ],
   "metadata": {
    "collapsed": false,
    "pycharm": {
     "name": "#%%\n",
     "is_executing": false
    }
   }
  }
 ],
 "metadata": {
  "kernelspec": {
   "display_name": "PyCharm (RelationExtraction)",
   "language": "python",
   "name": "pycharm-791db5a1"
  },
  "language_info": {
   "codemirror_mode": {
    "name": "ipython",
    "version": 3
   },
   "file_extension": ".py",
   "mimetype": "text/x-python",
   "name": "python",
   "nbconvert_exporter": "python",
   "pygments_lexer": "ipython3",
   "version": "3.7.4"
  },
  "pycharm": {
   "stem_cell": {
    "cell_type": "raw",
    "source": [],
    "metadata": {
     "collapsed": false
    }
   }
  }
 },
 "nbformat": 4,
 "nbformat_minor": 1
}