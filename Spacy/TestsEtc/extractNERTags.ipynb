{
 "cells": [
  {
   "cell_type": "code",
   "execution_count": 1,
   "metadata": {
    "collapsed": true,
    "pycharm": {
     "is_executing": false
    }
   },
   "outputs": [],
   "source": [
    "import xml.etree.ElementTree as ET"
   ]
  },
  {
   "cell_type": "code",
   "execution_count": 2,
   "outputs": [],
   "source": [
    "tree = ET.parse('../Data/Datasets/suc3.xml')\n",
    "root = tree.getroot()\n",
    "tags = {}\n",
    "tags['TME'] = 0\n",
    "tags['PRS'] = 0\n",
    "tags['ORG'] = 0\n",
    "tags['LOC'] = 0\n",
    "tags['WRK'] = 0\n",
    "tags['MSR'] = 0\n",
    "tags['LOC/PRS'] = 0\n",
    "tags['EVN'] = 0\n",
    "tags['OBJ'] = 0\n",
    "tags['ORG/PRS'] = 0\n",
    "tags['LOC/ORG'] = 0\n",
    "tags['LOC/LOC'] = 0\n",
    "tags['PRS/WRK'] = 0\n",
    "tags['ORG/WRK'] = 0\n",
    "tags['OBJ/ORG'] = 0\n",
    "\n",
    "\n",
    "\n",
    "for tag in root.iter('ne'):\n",
    "    tags[tag.attrib['type']] = tags[tag.attrib['type']] + 1\n",
    "    pass\n",
    "pass"
   ],
   "metadata": {
    "collapsed": false,
    "pycharm": {
     "name": "#%%\n",
     "is_executing": false
    }
   }
  }
 ],
 "metadata": {
  "kernelspec": {
   "name": "pycharm-791db5a1",
   "language": "python",
   "display_name": "PyCharm (RelationExtraction)"
  },
  "language_info": {
   "codemirror_mode": {
    "name": "ipython",
    "version": 2
   },
   "file_extension": ".py",
   "mimetype": "text/x-python",
   "name": "python",
   "nbconvert_exporter": "python",
   "pygments_lexer": "ipython2",
   "version": "2.7.6"
  },
  "pycharm": {
   "stem_cell": {
    "cell_type": "raw",
    "source": [],
    "metadata": {
     "collapsed": false
    }
   }
  }
 },
 "nbformat": 4,
 "nbformat_minor": 0
}