{
 "cells": [
  {
   "cell_type": "code",
   "execution_count": 2,
   "metadata": {
    "collapsed": true,
    "pycharm": {
     "is_executing": false
    }
   },
   "outputs": [],
   "source": [
    "import spacy\n",
    "import json\n"
   ]
  },
  {
   "cell_type": "code",
   "execution_count": 3,
   "outputs": [
    {
     "name": "stdout",
     "text": [
      "['parser', 'tagger']\n"
     ],
     "output_type": "stream"
    }
   ],
   "source": [
    "nlp = spacy.load('../Models/SpacySwedishFastText')\n",
    "print(nlp.pipe_names)"
   ],
   "metadata": {
    "collapsed": false,
    "pycharm": {
     "name": "#%%\n",
     "is_executing": false
    }
   }
  },
  {
   "cell_type": "code",
   "execution_count": 4,
   "outputs": [
    {
     "name": "stdout",
     "text": [
      "{'ROOT': 0, 'case': 0, 'det': 0, 'nsubj': 0, 'amod': 0, 'mark': 0, 'nsubj:pass': 0, 'advmod': 0, 'expl': 0, 'cc': 0, 'discourse': 0, 'nmod:poss': 0, 'nmod': 0, 'cop': 0, 'compound': 0, 'obj': 0, 'xcomp': 0, 'dislocated': 0, 'nummod': 0, 'aux': 0, 'obl': 0, 'vocative': 0, 'punct': 0, 'advcl': 0, 'csubj': 0, 'iobj': 0, 'dep': 0}\n"
     ],
     "output_type": "stream"
    }
   ],
   "source": [
    "f = open('../Data/Datasets/sv_lines-ud-train.json', 'r')\n",
    "dataset = json.load(f)\n",
    "deps = {}\n",
    "for token in dataset:\n",
    "    deps[token['paragraphs'][0]['sentences'][0]['tokens'][0]['dep']] = 0\n",
    "print(deps)\n"
   ],
   "metadata": {
    "collapsed": false,
    "pycharm": {
     "name": "#%%\n",
     "is_executing": false
    }
   }
  }
 ],
 "metadata": {
  "kernelspec": {
   "name": "pycharm-791db5a1",
   "language": "python",
   "display_name": "PyCharm (RelationExtraction)"
  },
  "language_info": {
   "codemirror_mode": {
    "name": "ipython",
    "version": 2
   },
   "file_extension": ".py",
   "mimetype": "text/x-python",
   "name": "python",
   "nbconvert_exporter": "python",
   "pygments_lexer": "ipython2",
   "version": "2.7.6"
  },
  "pycharm": {
   "stem_cell": {
    "cell_type": "raw",
    "source": [],
    "metadata": {
     "collapsed": false
    }
   }
  }
 },
 "nbformat": 4,
 "nbformat_minor": 0
}