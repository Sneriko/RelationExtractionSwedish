{
 "cells": [
  {
   "cell_type": "code",
   "execution_count": 1,
   "metadata": {
    "pycharm": {
     "is_executing": false
    }
   },
   "outputs": [],
   "source": [
    "import spacy\n",
    "\n",
    "nlp = spacy.load('../Models/SpacySwedishFastText')"
   ]
  },
  {
   "cell_type": "code",
   "execution_count": 2,
   "metadata": {
    "collapsed": true,
    "pycharm": {
     "is_executing": false
    }
   },
   "outputs": [
    {
     "name": "stdout",
     "text": [
      "Erik Lenas\n",
      "jag\n",
      "jag\n",
      "jobb på Riksarkivet\n"
     ],
     "output_type": "stream"
    }
   ],
   "source": [
    "doc = nlp('Erik Lenas heter jag, och jag har jobb på Riksarkivet.')\n",
    "\n",
    "noun_chunks = list(doc.noun_chunks)\n",
    "\n",
    "for nc in noun_chunks:\n",
    "    print(nc)\n"
   ]
  }
 ],
 "metadata": {
  "kernelspec": {
   "display_name": "PyCharm (RelationExtraction)",
   "language": "python",
   "name": "pycharm-791db5a1"
  },
  "language_info": {
   "codemirror_mode": {
    "name": "ipython",
    "version": 3
   },
   "file_extension": ".py",
   "mimetype": "text/x-python",
   "name": "python",
   "nbconvert_exporter": "python",
   "pygments_lexer": "ipython3",
   "version": "3.7.4"
  },
  "pycharm": {
   "stem_cell": {
    "cell_type": "raw",
    "source": [],
    "metadata": {
     "collapsed": false
    }
   }
  }
 },
 "nbformat": 4,
 "nbformat_minor": 1
}