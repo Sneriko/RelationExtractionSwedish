{
 "cells": [
  {
   "cell_type": "code",
   "execution_count": 1,
   "metadata": {
    "collapsed": true,
    "pycharm": {
     "is_executing": false
    }
   },
   "outputs": [],
   "source": [
    "import spacy\n",
    "import xml.etree.ElementTree as ET\n",
    "\n",
    "nlp = spacy.load('../Models/SpacySwedishFastText')"
   ]
  },
  {
   "cell_type": "code",
   "execution_count": 6,
   "outputs": [],
   "source": [
    "def translateTagToPOS(tag):\n",
    "    if tag.startswith('AB') or tag.startswith('HA'):\n",
    "        return 'ADV'\n",
    "    elif tag.startswith('DT') or tag.startswith('HD') or tag.startswith('HS') or tag.startswith('PS'):\n",
    "        return 'DET'\n",
    "    elif tag.startswith('HP') or tag.startswith('PN'):\n",
    "        return 'PRON'\n",
    "    elif tag.startswith('IE') or tag.startswith('PL'):\n",
    "        return 'PART'\n",
    "    elif tag.startswith('IN'):\n",
    "        return 'INTJ'\n",
    "    elif tag.startswith('JJ') or tag.startswith('RO'):\n",
    "        return 'ADJ'\n",
    "    elif tag.startswith('KN'):\n",
    "        return 'CCONJ'\n",
    "    elif tag.startswith('MAD') or tag.startswith('MID') or tag.startswith('PAD'):\n",
    "        return 'PUNCT'\n",
    "    elif tag.startswith('NN'):\n",
    "        return 'NOUN'\n",
    "    elif tag.startswith('PC') or tag.startswith('VB'):\n",
    "        return 'VERB'\n",
    "    elif tag.startswith('PM'):\n",
    "        return 'PROPN'\n",
    "    elif tag.startswith('PP'):\n",
    "        return 'ADP'\n",
    "    elif tag.startswith('RG'):\n",
    "        return 'NUM'\n",
    "    elif tag.startswith('SN'):\n",
    "        return 'SCONJ'\n",
    "    elif tag.startswith('UO'):\n",
    "        return 'X'\n",
    "    "
   ],
   "metadata": {
    "collapsed": false,
    "pycharm": {
     "name": "#%%\n",
     "is_executing": false
    }
   }
  },
  {
   "cell_type": "code",
   "execution_count": 9,
   "outputs": [
    {
     "name": "stdout",
     "text": [
      "accuracy: 0.9024714618197939\n"
     ],
     "output_type": "stream"
    }
   ],
   "source": [
    "tree = ET.parse('../Data/Datasets/testSetSUC.xml')\n",
    "root = tree.getroot()\n",
    "correct = 0\n",
    "incorrect = 0\n",
    "    \n",
    "\n",
    "for sentence in root.iter('sentence'):\n",
    "    text = ''\n",
    "    sentencePOS = []\n",
    "    nlpPOS = []\n",
    "    \n",
    "    for word in sentence.iter('w'):\n",
    "        POSTag = translateTagToPOS(word.attrib['msd'])\n",
    "        sentencePOS.append(POSTag)\n",
    "        text += word.text + ' '\n",
    "\n",
    "    doc = nlp(text)\n",
    "    for token in doc:\n",
    "        nlpPOS.append(token.pos_)\n",
    "    if len(nlpPOS) == len(sentencePOS):\n",
    "        for i in range(len(nlpPOS)):\n",
    "            if nlpPOS[i] == sentencePOS[i]:\n",
    "                correct += 1\n",
    "            else:\n",
    "                incorrect += 1\n",
    "acc = correct / (correct + incorrect)\n",
    "print('accuracy: ' + str(acc))\n",
    "    \n",
    "pass"
   ],
   "metadata": {
    "collapsed": false,
    "pycharm": {
     "name": "#%%\n",
     "is_executing": false
    }
   }
  }
 ],
 "metadata": {
  "kernelspec": {
   "name": "pycharm-791db5a1",
   "language": "python",
   "display_name": "PyCharm (RelationExtraction)"
  },
  "language_info": {
   "codemirror_mode": {
    "name": "ipython",
    "version": 2
   },
   "file_extension": ".py",
   "mimetype": "text/x-python",
   "name": "python",
   "nbconvert_exporter": "python",
   "pygments_lexer": "ipython2",
   "version": "2.7.6"
  },
  "pycharm": {
   "stem_cell": {
    "cell_type": "raw",
    "source": [],
    "metadata": {
     "collapsed": false
    }
   }
  }
 },
 "nbformat": 4,
 "nbformat_minor": 0
}