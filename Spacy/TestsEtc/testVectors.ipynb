{
 "cells": [
  {
   "cell_type": "code",
   "execution_count": 1,
   "metadata": {
    "collapsed": true,
    "pycharm": {
     "is_executing": false
    }
   },
   "outputs": [],
   "source": [
    "import spacy\n",
    "import numpy\n",
    "\n",
    "nlp = spacy.load('../Models/SpacySwedishFastText')"
   ]
  },
  {
   "cell_type": "code",
   "execution_count": 5,
   "outputs": [
    {
     "name": "stdout",
     "text": [
      "Erik\n",
      "älska\n",
      "att\n",
      "bild\n",
      "fräck\n",
      "ord\n",
      ",\n",
      "men\n",
      "han\n",
      "ä\n",
      "inte\n",
      "så\n",
      "bra\n",
      "på\n",
      "det\n"
     ],
     "output_type": "stream"
    }
   ],
   "source": [
    "tokens = nlp('Erik älskar att bilda fräcka ord, men han är inte så bra på det')\n",
    "for token in tokens:\n",
    "    \"\"\"queries = numpy.asarray([token.vector])\n",
    "    \n",
    "    mostSim = nlp.vocab.vectors.most_similar(queries, n=10)\n",
    "    for arr in mostSim[0]:\n",
    "        for key in arr:\n",
    "            print(nlp.vocab.strings[key])\n",
    "        print('\\n')\"\"\"\n",
    "    print(token.lemma_)"
   ],
   "metadata": {
    "collapsed": false,
    "pycharm": {
     "name": "#%%\n",
     "is_executing": false
    }
   }
  }
 ],
 "metadata": {
  "kernelspec": {
   "name": "pycharm-791db5a1",
   "language": "python",
   "display_name": "PyCharm (RelationExtraction)"
  },
  "language_info": {
   "codemirror_mode": {
    "name": "ipython",
    "version": 2
   },
   "file_extension": ".py",
   "mimetype": "text/x-python",
   "name": "python",
   "nbconvert_exporter": "python",
   "pygments_lexer": "ipython2",
   "version": "2.7.6"
  },
  "pycharm": {
   "stem_cell": {
    "cell_type": "raw",
    "source": [],
    "metadata": {
     "collapsed": false
    }
   }
  }
 },
 "nbformat": 4,
 "nbformat_minor": 0
}