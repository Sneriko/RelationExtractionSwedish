{
 "cells": [
  {
   "cell_type": "code",
   "execution_count": 1,
   "metadata": {
    "pycharm": {
     "is_executing": false
    }
   },
   "outputs": [],
   "source": [
    "import spacy\n",
    "from spacy.gold import GoldParse\n",
    "from spacy.tokens import Doc\n",
    "from spacy.scorer import Scorer\n",
    "import xml.etree.ElementTree as ET"
   ]
  },
  {
   "cell_type": "code",
   "execution_count": 2,
   "metadata": {
    "pycharm": {
     "is_executing": false
    }
   },
   "outputs": [],
   "source": [
    "nlp = spacy.load('../Models/SpacySwedishFastText')"
   ]
  },
  {
   "cell_type": "markdown",
   "metadata": {},
   "source": [
    "I evaluate one sentence at the time to adjust the manually tokenized SUC corpus to Spacys tokenizer. \n",
    "Printed is the accuracy for the tagger. "
   ]
  },
  {
   "cell_type": "code",
   "execution_count": 5,
   "metadata": {
    "collapsed": true,
    "pycharm": {
     "is_executing": false
    }
   },
   "outputs": [
    {
     "name": "stdout",
     "text": [
      "Accuracy for tagger: 0.8699988917211571\n"
     ],
     "output_type": "stream"
    }
   ],
   "source": [
    "tree = ET.parse('../Data/Datasets/testSetSUC.xml')\n",
    "root = tree.getroot()\n",
    "text = ''\n",
    "\n",
    "wordsum = 0\n",
    "correctWords = 0\n",
    "for sentence in root.iter('sentence'):\n",
    "    tags = []\n",
    "    stext = ''\n",
    "\n",
    "    for w in sentence.iter('w'):\n",
    "        stext += w.text + ' '\n",
    "        tags.append(w.attrib['msd'].replace('.', '|'))\n",
    "        text += stext   \n",
    "    \n",
    "\n",
    "    #print(stext)\n",
    "    doc = nlp(stext)\n",
    "\n",
    "    #for token in doc:\n",
    "    #print(token.text, token.pos_, token.tag_)\n",
    "\n",
    "    gold = GoldParse(doc, tags=tags)\n",
    "\n",
    "    sc = Scorer()\n",
    "    sc.score(doc, gold)\n",
    "    wordsum += len(tags)\n",
    "    correctWords += (sc.tags_acc * 0.01) * len(tags)\n",
    "    pass\n",
    "\n",
    "accuracy = correctWords / wordsum\n",
    "print(\"Accuracy for tagger: \" + str(accuracy))"
   ]
  },
  {
   "cell_type": "code",
   "execution_count": 3,
   "metadata": {
    "pycharm": {
     "is_executing": false,
     "name": "#%%\n"
    }
   },
   "outputs": [],
   "source": []
  }
 ],
 "metadata": {
  "kernelspec": {
   "display_name": "PyCharm (RelationExtraction)",
   "language": "python",
   "name": "pycharm-791db5a1"
  },
  "language_info": {
   "codemirror_mode": {
    "name": "ipython",
    "version": 3
   },
   "file_extension": ".py",
   "mimetype": "text/x-python",
   "name": "python",
   "nbconvert_exporter": "python",
   "pygments_lexer": "ipython3",
   "version": "3.7.4"
  },
  "pycharm": {
   "stem_cell": {
    "cell_type": "raw",
    "source": [],
    "metadata": {
     "collapsed": false
    }
   }
  }
 },
 "nbformat": 4,
 "nbformat_minor": 1
}